{
  "cells": [
    {
      "cell_type": "code",
      "execution_count": 1,
      "metadata": {
        "colab": {
          "base_uri": "https://localhost:8080/"
        },
        "id": "UaSajGsZV5cQ",
        "outputId": "8f47911b-8255-4da7-dec5-74abebe0a9b8"
      },
      "outputs": [
        {
          "name": "stdout",
          "output_type": "stream",
          "text": [
            "Requirement already satisfied: cleverhans in /Library/Frameworks/Python.framework/Versions/3.9/lib/python3.9/site-packages (4.0.0)\n",
            "Requirement already satisfied: mnist in /Library/Frameworks/Python.framework/Versions/3.9/lib/python3.9/site-packages (from cleverhans) (0.2.2)\n",
            "Requirement already satisfied: nose in /Library/Frameworks/Python.framework/Versions/3.9/lib/python3.9/site-packages (from cleverhans) (1.3.7)\n",
            "Requirement already satisfied: easydict in /Library/Frameworks/Python.framework/Versions/3.9/lib/python3.9/site-packages (from cleverhans) (1.10)\n",
            "Requirement already satisfied: matplotlib in /Library/Frameworks/Python.framework/Versions/3.9/lib/python3.9/site-packages (from cleverhans) (3.5.1)\n",
            "Requirement already satisfied: numpy in /Library/Frameworks/Python.framework/Versions/3.9/lib/python3.9/site-packages (from cleverhans) (1.23.2)\n",
            "Requirement already satisfied: six in /Library/Frameworks/Python.framework/Versions/3.9/lib/python3.9/site-packages (from cleverhans) (1.16.0)\n",
            "Requirement already satisfied: scipy in /Library/Frameworks/Python.framework/Versions/3.9/lib/python3.9/site-packages (from cleverhans) (1.5.4)\n",
            "Requirement already satisfied: tensorflow-probability in /Library/Frameworks/Python.framework/Versions/3.9/lib/python3.9/site-packages (from cleverhans) (0.18.0)\n",
            "Requirement already satisfied: absl-py in /Library/Frameworks/Python.framework/Versions/3.9/lib/python3.9/site-packages (from cleverhans) (1.2.0)\n",
            "Requirement already satisfied: pycodestyle in /Library/Frameworks/Python.framework/Versions/3.9/lib/python3.9/site-packages (from cleverhans) (2.9.1)\n",
            "Requirement already satisfied: joblib in /Library/Frameworks/Python.framework/Versions/3.9/lib/python3.9/site-packages (from cleverhans) (1.1.0)\n",
            "Requirement already satisfied: fonttools>=4.22.0 in /Library/Frameworks/Python.framework/Versions/3.9/lib/python3.9/site-packages (from matplotlib->cleverhans) (4.31.2)\n",
            "Requirement already satisfied: pyparsing>=2.2.1 in /Library/Frameworks/Python.framework/Versions/3.9/lib/python3.9/site-packages (from matplotlib->cleverhans) (2.4.7)\n",
            "Requirement already satisfied: kiwisolver>=1.0.1 in /Library/Frameworks/Python.framework/Versions/3.9/lib/python3.9/site-packages (from matplotlib->cleverhans) (1.4.0)\n",
            "Requirement already satisfied: packaging>=20.0 in /Library/Frameworks/Python.framework/Versions/3.9/lib/python3.9/site-packages (from matplotlib->cleverhans) (21.3)\n",
            "Requirement already satisfied: cycler>=0.10 in /Library/Frameworks/Python.framework/Versions/3.9/lib/python3.9/site-packages (from matplotlib->cleverhans) (0.11.0)\n",
            "Requirement already satisfied: python-dateutil>=2.7 in /Library/Frameworks/Python.framework/Versions/3.9/lib/python3.9/site-packages (from matplotlib->cleverhans) (2.8.2)\n",
            "Requirement already satisfied: pillow>=6.2.0 in /Library/Frameworks/Python.framework/Versions/3.9/lib/python3.9/site-packages (from matplotlib->cleverhans) (8.2.0)\n",
            "Requirement already satisfied: decorator in /Library/Frameworks/Python.framework/Versions/3.9/lib/python3.9/site-packages (from tensorflow-probability->cleverhans) (5.1.1)\n",
            "Requirement already satisfied: dm-tree in /Library/Frameworks/Python.framework/Versions/3.9/lib/python3.9/site-packages (from tensorflow-probability->cleverhans) (0.1.7)\n",
            "Requirement already satisfied: gast>=0.3.2 in /Library/Frameworks/Python.framework/Versions/3.9/lib/python3.9/site-packages (from tensorflow-probability->cleverhans) (0.4.0)\n",
            "Requirement already satisfied: cloudpickle>=1.3 in /Library/Frameworks/Python.framework/Versions/3.9/lib/python3.9/site-packages (from tensorflow-probability->cleverhans) (2.2.0)\n",
            "Note: you may need to restart the kernel to use updated packages.\n"
          ]
        }
      ],
      "source": [
        "%pip install cleverhans;"
      ]
    },
    {
      "cell_type": "code",
      "execution_count": 2,
      "metadata": {
        "id": "QIBGXBUHVqfk"
      },
      "outputs": [
        {
          "name": "stderr",
          "output_type": "stream",
          "text": [
            "2022-11-25 13:00:07.469481: I tensorflow/core/platform/cpu_feature_guard.cc:193] This TensorFlow binary is optimized with oneAPI Deep Neural Network Library (oneDNN) to use the following CPU instructions in performance-critical operations:  AVX2 FMA\n",
            "To enable them in other operations, rebuild TensorFlow with the appropriate compiler flags.\n",
            "/Users/karendamata/Library/Python/3.9/lib/python/site-packages/tqdm/auto.py:22: TqdmWarning: IProgress not found. Please update jupyter and ipywidgets. See https://ipywidgets.readthedocs.io/en/stable/user_install.html\n",
            "  from .autonotebook import tqdm as notebook_tqdm\n"
          ]
        }
      ],
      "source": [
        "import math\n",
        "import numpy as np\n",
        "import tensorflow as tf\n",
        "import tensorflow_datasets as tfds\n",
        "from absl import app, flags\n",
        "from easydict import EasyDict\n",
        "from tensorflow.keras import Model\n",
        "from tensorflow.keras.layers import AveragePooling2D, Conv2D\n",
        "import matplotlib.pyplot as plt\n",
        "import pandas as pd\n",
        "\n",
        "\n",
        "from cleverhans.tf2.attacks.projected_gradient_descent import projected_gradient_descent\n",
        "from cleverhans.tf2.attacks.fast_gradient_method import fast_gradient_method\n",
        "\n",
        "FLAGS = flags.FLAGS"
      ]
    },
    {
      "cell_type": "code",
      "execution_count": 3,
      "metadata": {
        "id": "EPSFO-5UVu2l"
      },
      "outputs": [],
      "source": [
        "class CNN(Model):\n",
        "    def __init__(self, nb_filters=64):\n",
        "        super(CNN, self).__init__()\n",
        "        img_size = 32\n",
        "        log_resolution = int(round(math.log(img_size) / math.log(2)))\n",
        "        conv_args = dict(activation=tf.nn.leaky_relu, kernel_size=3, padding=\"same\")\n",
        "        self.layers_obj = []\n",
        "        for scale in range(log_resolution - 2):\n",
        "            conv1 = Conv2D(nb_filters << scale, **conv_args)\n",
        "            conv2 = Conv2D(nb_filters << (scale + 1), **conv_args)\n",
        "            pool = AveragePooling2D(pool_size=(2, 2), strides=(2, 2))\n",
        "            self.layers_obj.append(conv1)\n",
        "            self.layers_obj.append(conv2)\n",
        "            self.layers_obj.append(pool)\n",
        "        conv = Conv2D(10, **conv_args)\n",
        "        self.layers_obj.append(conv)\n",
        "\n",
        "    def call(self, x):\n",
        "        for layer in self.layers_obj:\n",
        "            x = layer(x)\n",
        "        return tf.reduce_mean(x, [1, 2])"
      ]
    },
    {
      "cell_type": "code",
      "execution_count": 4,
      "metadata": {
        "id": "XDeYADQPVzDh"
      },
      "outputs": [],
      "source": [
        "def ld_cifar10():\n",
        "    \"\"\"Load training and test data.\"\"\"\n",
        "\n",
        "    def convert_types(image, label):\n",
        "        image = tf.cast(image, tf.float32)\n",
        "        image /= 127.5\n",
        "        image -= 1.0\n",
        "        return image, label\n",
        "\n",
        "    dataset, info = tfds.load(\"cifar10\", with_info=True, as_supervised=True)\n",
        "\n",
        "    def augment_mirror(x):\n",
        "        return tf.image.random_flip_left_right(x)\n",
        "\n",
        "    def augment_shift(x, w=4):\n",
        "        y = tf.pad(x, [[w] * 2, [w] * 2, [0] * 2], mode=\"REFLECT\")\n",
        "        return tf.image.random_crop(y, tf.shape(x))\n",
        "\n",
        "    cifar10_train, cifar10_test = dataset[\"train\"], dataset[\"test\"]\n",
        "    # Augmentation helps a lot in CIFAR10\n",
        "    cifar10_train = cifar10_train.map(\n",
        "        lambda x, y: (augment_mirror(augment_shift(x)), y)\n",
        "    )\n",
        "    cifar10_train = cifar10_train.map(convert_types).shuffle(10000).batch(128)\n",
        "    cifar10_test = cifar10_test.map(convert_types).batch(128)\n",
        "\n",
        "    return EasyDict(train=cifar10_train, test=cifar10_test, info=info)"
      ]
    },
    {
      "cell_type": "code",
      "execution_count": 5,
      "metadata": {
        "id": "CONbC8gs4Q_m"
      },
      "outputs": [],
      "source": [
        "def img_plt(x_data, img_number=None):\n",
        "    if img_number == None:\n",
        "        item = np.array(x_data)\n",
        "    else:\n",
        "        item = np.array(x_data.__getitem__(img_number))\n",
        "    min = abs(item.min())\n",
        "    max = abs(item.max())\n",
        "\n",
        "    np.array(item)\n",
        "    plt.imshow(((item+min)*(127 + (1-max)))/255);\n"
      ]
    },
    {
      "cell_type": "markdown",
      "metadata": {},
      "source": [
        "# Loading the Data"
      ]
    },
    {
      "cell_type": "code",
      "execution_count": 6,
      "metadata": {
        "colab": {
          "base_uri": "https://localhost:8080/"
        },
        "id": "VWV11CtLV_wg",
        "outputId": "587ad4e2-5468-4801-fe27-41f186675a8e"
      },
      "outputs": [
        {
          "name": "stderr",
          "output_type": "stream",
          "text": [
            "2022-11-25 13:00:39.178343: I tensorflow/core/platform/cpu_feature_guard.cc:193] This TensorFlow binary is optimized with oneAPI Deep Neural Network Library (oneDNN) to use the following CPU instructions in performance-critical operations:  AVX2 FMA\n",
            "To enable them in other operations, rebuild TensorFlow with the appropriate compiler flags.\n"
          ]
        }
      ],
      "source": [
        "data = ld_cifar10()\n",
        "model = CNN()\n",
        "loss_object = tf.losses.SparseCategoricalCrossentropy(from_logits=True)\n",
        "optimizer = tf.optimizers.Adam(learning_rate=0.001)\n",
        "\n",
        "# Metrics to track the different accuracies.\n",
        "train_loss = tf.metrics.Mean(name=\"train_loss\")\n",
        "test_acc_clean = tf.metrics.SparseCategoricalAccuracy()\n",
        "test_acc_fgsm = tf.metrics.SparseCategoricalAccuracy()\n",
        "test_acc_pgd = tf.metrics.SparseCategoricalAccuracy()\n",
        "test_acc_poissoned = tf.metrics.SparseCategoricalAccuracy()\n",
        "   "
      ]
    },
    {
      "cell_type": "code",
      "execution_count": 512,
      "metadata": {},
      "outputs": [
        {
          "data": {
            "text/plain": [
              "{'0': 'airplane',\n",
              " '1': 'automobile',\n",
              " '2': 'bird',\n",
              " '3': 'cat',\n",
              " '4': 'deer',\n",
              " '5': 'dog',\n",
              " '6': 'frog',\n",
              " '7': 'horse',\n",
              " '8': 'ship',\n",
              " '9': 'truck'}"
            ]
          },
          "execution_count": 512,
          "metadata": {},
          "output_type": "execute_result"
        }
      ],
      "source": [
        "classes = {'0': 'airplane', '1': 'automobile', '2': 'bird', '3': 'cat', '4': 'deer', '5': 'dog', '6': 'frog', '7': 'horse', '8': 'ship', '9': 'truck'}\n",
        "classes"
      ]
    },
    {
      "cell_type": "markdown",
      "metadata": {},
      "source": [
        "# Training the Classifier"
      ]
    },
    {
      "cell_type": "code",
      "execution_count": 7,
      "metadata": {
        "id": "sGD-nXepZI-n"
      },
      "outputs": [],
      "source": [
        "nb_epochs = 1;\n",
        "eps = 0.05;\n",
        "adv_train = False;"
      ]
    },
    {
      "cell_type": "code",
      "execution_count": 8,
      "metadata": {
        "colab": {
          "base_uri": "https://localhost:8080/"
        },
        "id": "rYkiHtTjWIQU",
        "outputId": "55b29a52-b65d-4a6f-b623-0dffee45fd52"
      },
      "outputs": [
        {
          "name": "stdout",
          "output_type": "stream",
          "text": [
            "50000/50000 [==============================] - 1179s 24ms/step - loss: 1.8679\n"
          ]
        }
      ],
      "source": [
        "\n",
        "@tf.function\n",
        "def train_step(x, y):\n",
        "  with tf.GradientTape() as tape:\n",
        "    predictions = model(x)\n",
        "    # predictions = tf.keras.activations.softmax(predictions)\n",
        "    loss = loss_object(y, predictions)\n",
        "  gradients = tape.gradient(loss, model.trainable_variables)\n",
        "  optimizer.apply_gradients(zip(gradients, model.trainable_variables))\n",
        "  train_loss(loss)\n",
        "\n",
        "for epoch in range(nb_epochs):\n",
        "  progress_bar_train = tf.keras.utils.Progbar(50000)\n",
        "  for (x, y) in data.train:\n",
        "    if adv_train:\n",
        "      # Replace clean example with adversarial example for adversarial training\n",
        "      x = projected_gradient_descent(model, x, eps, 0.01, 40, np.inf)\n",
        "    train_step(x, y)\n",
        "    progress_bar_train.add(x.shape[0], values=[(\"loss\", train_loss.result())])"
      ]
    },
    {
      "cell_type": "code",
      "execution_count": 9,
      "metadata": {},
      "outputs": [
        {
          "name": "stderr",
          "output_type": "stream",
          "text": [
            "WARNING:absl:Found untraced functions such as _jit_compiled_convolution_op, _jit_compiled_convolution_op, _jit_compiled_convolution_op, _jit_compiled_convolution_op, _jit_compiled_convolution_op while saving (showing 5 of 7). These functions will not be directly callable after loading.\n"
          ]
        },
        {
          "name": "stdout",
          "output_type": "stream",
          "text": [
            "INFO:tensorflow:Assets written to: saved_model/my_model/assets\n"
          ]
        },
        {
          "name": "stderr",
          "output_type": "stream",
          "text": [
            "INFO:tensorflow:Assets written to: saved_model/my_model/assets\n"
          ]
        }
      ],
      "source": [
        "! mkdir -p saved_model\n",
        "model.save('saved_model/my_model')\n",
        "\n",
        "new_model = tf.keras.models.load_model('saved_model/my_model')"
      ]
    },
    {
      "cell_type": "code",
      "execution_count": 11,
      "metadata": {},
      "outputs": [
        {
          "name": "stdout",
          "output_type": "stream",
          "text": [
            "WARNING:tensorflow:No training configuration found in save file, so the model was *not* compiled. Compile it manually.\n"
          ]
        },
        {
          "name": "stderr",
          "output_type": "stream",
          "text": [
            "WARNING:tensorflow:No training configuration found in save file, so the model was *not* compiled. Compile it manually.\n"
          ]
        }
      ],
      "source": [
        "new_model = tf.keras.models.load_model('saved_model/my_model')"
      ]
    },
    {
      "cell_type": "markdown",
      "metadata": {},
      "source": [
        "# Creating the Adversarial Examples\n",
        "10000 of each attack."
      ]
    },
    {
      "cell_type": "code",
      "execution_count": 15,
      "metadata": {
        "colab": {
          "base_uri": "https://localhost:8080/"
        },
        "id": "2PmGiBD0XVJW",
        "outputId": "b399b457-639f-4305-f2f5-4dbcfbe6819c"
      },
      "outputs": [
        {
          "name": "stdout",
          "output_type": "stream",
          "text": [
            "10000/10000 [==============================] - 210s 21ms/step\n"
          ]
        }
      ],
      "source": [
        "progress_bar_test = tf.keras.utils.Progbar(10000)\n",
        "real_x = tf.zeros([0, 32, 32, 3], dtype=float)\n",
        "real_y = tf.zeros([0], dtype='int64')\n",
        "real_label = tf.convert_to_tensor(np.array([0]*10000), dtype='int32')\n",
        "\n",
        "X_fgm = tf.zeros([0, 32, 32, 3], dtype=float)\n",
        "Y_fgm = tf.zeros([0], dtype='int64')\n",
        "fgm_label = tf.convert_to_tensor(np.array([1]*10000), dtype='int32')\n",
        "\n",
        "X_pgd = tf.zeros([0, 32, 32, 3], dtype=float)\n",
        "Y_pgd= tf.zeros([0], dtype='int64')\n",
        "pgd_label = tf.convert_to_tensor(np.array([2]*10000), dtype='int32')\n",
        "\n",
        "for x, y in data.test:\n",
        "  x_fgm = fast_gradient_method(model, x, eps, np.inf)\n",
        "  X_fgm = tf.concat([X_fgm, x_fgm], 0)\n",
        "  Y_fgm = tf.concat([Y_fgm, y], 0)\n",
        "\n",
        "  # x_pgd = projected_gradient_descent(model, x, eps, 0.01, 40, np.inf)\n",
        "  # X_pgd = tf.concat([X_pgd, x_fgm], 0)\n",
        "  # Y_pgd = tf.concat([Y_pgd, y], 0)\n",
        "\n",
        "  real_x = tf.concat([real_x, x], 0)\n",
        "  real_y = tf.concat([real_y, y], 0)\n",
        "  progress_bar_test.add(x.shape[0])"
      ]
    },
    {
      "cell_type": "code",
      "execution_count": 17,
      "metadata": {
        "id": "HH1sTLRA5c2U"
      },
      "outputs": [],
      "source": [
        "# Adding a real label data\n",
        "real_df = tf.data.Dataset.from_tensor_slices((real_x, real_y, real_label)).take(6000)\n",
        "fgm_df = tf.data.Dataset.from_tensor_slices((X_fgm, Y_fgm, fgm_label)).take(4000)\n",
        "# pgd_df = tf.data.Dataset.from_tensor_slices((X_pgd, Y_pgd, pgd_label)).take(2000)\n",
        "real_fake = real_df.concatenate(fgm_df)\n",
        "# real_pgd = real_df.concatenate(pgd_df)\n",
        "# real_fake = real_fgm.concatenate(pgd_df)"
      ]
    },
    {
      "cell_type": "code",
      "execution_count": 19,
      "metadata": {
        "id": "n-olF13dt5Ln"
      },
      "outputs": [],
      "source": [
        "# Shuffling the combined data\n",
        "shuffled = real_fake.shuffle(10000)\n",
        "shuffled = shuffled.batch(batch_size=128)\n",
        "combined_test = shuffled.take(79)\n",
        "image, Class, label = tuple(zip(*combined_test))"
      ]
    },
    {
      "cell_type": "code",
      "execution_count": 20,
      "metadata": {
        "id": "VqnxTBNo58aj"
      },
      "outputs": [
        {
          "name": "stdout",
          "output_type": "stream",
          "text": [
            "10000/10000 [==============================] - 57s 6ms/step\n",
            "Accuracy using Real Examples: 57.12353172181528%\n"
          ]
        }
      ],
      "source": [
        "acc = np.array([])\n",
        "predictions_real = np.array([])\n",
        "progress_bar_test = tf.keras.utils.Progbar(10000)\n",
        "for (x, y) in data.test:\n",
        "  y_pred = model(x)\n",
        "  predictions_real = np.append(predictions_real, [ np.argmax(item) for item in y_pred.numpy()])\n",
        "  test_acc_clean(y, y_pred)\n",
        "  acc = np.append(acc, test_acc_clean.result().numpy())\n",
        "  progress_bar_test.add(x.shape[0])\n",
        "print(f\"Accuracy using Real Examples: {acc.mean()*100}%\")"
      ]
    },
    {
      "cell_type": "code",
      "execution_count": 21,
      "metadata": {},
      "outputs": [
        {
          "name": "stdout",
          "output_type": "stream",
          "text": [
            "10000/10000 [==============================] - 59s 6ms/step\n",
            "Accuracy using Fake Examples: 43.79313150538674%\n"
          ]
        }
      ],
      "source": [
        "acc_poissoned = np.array([])\n",
        "predictions = np.array([])\n",
        "progress_bar_test = tf.keras.utils.Progbar(10000)\n",
        "for x,y,z in combined_test:\n",
        "    y_pred = model(x)\n",
        "    # y_pred = tf.keras.activations.softmax(y_pred)\n",
        "    predictions = np.append(predictions, [ np.argmax(item) for item in y_pred.numpy()])\n",
        "    # test_acc_poissoned.reset_state()\n",
        "    test_acc_poissoned(y, y_pred)\n",
        "    acc_poissoned = np.append(acc_poissoned, test_acc_poissoned.result().numpy())\n",
        "    progress_bar_test.add(x.shape[0])\n",
        "print(f\"Accuracy using Fake Examples: {acc_poissoned.mean()*100}%\")"
      ]
    },
    {
      "cell_type": "code",
      "execution_count": 22,
      "metadata": {},
      "outputs": [],
      "source": [
        "image, Class, label = tuple(zip(*combined_test.unbatch()))"
      ]
    },
    {
      "cell_type": "code",
      "execution_count": 28,
      "metadata": {},
      "outputs": [],
      "source": [
        "results = pd.DataFrame([predictions, np.array(Class), np.array(label)], index=['Predictions', 'Expected Y', '0 - Real, 1 - FGM, 2 - PGD']).T"
      ]
    },
    {
      "cell_type": "code",
      "execution_count": 29,
      "metadata": {},
      "outputs": [
        {
          "data": {
            "text/html": [
              "<div>\n",
              "<style scoped>\n",
              "    .dataframe tbody tr th:only-of-type {\n",
              "        vertical-align: middle;\n",
              "    }\n",
              "\n",
              "    .dataframe tbody tr th {\n",
              "        vertical-align: top;\n",
              "    }\n",
              "\n",
              "    .dataframe thead th {\n",
              "        text-align: right;\n",
              "    }\n",
              "</style>\n",
              "<table border=\"1\" class=\"dataframe\">\n",
              "  <thead>\n",
              "    <tr style=\"text-align: right;\">\n",
              "      <th></th>\n",
              "      <th>Predictions</th>\n",
              "      <th>Expected Y</th>\n",
              "      <th>0 - Real, 1 - FGM, 2 - PGD</th>\n",
              "    </tr>\n",
              "  </thead>\n",
              "  <tbody>\n",
              "    <tr>\n",
              "      <th>0</th>\n",
              "      <td>8.0</td>\n",
              "      <td>6.0</td>\n",
              "      <td>0.0</td>\n",
              "    </tr>\n",
              "    <tr>\n",
              "      <th>1</th>\n",
              "      <td>2.0</td>\n",
              "      <td>7.0</td>\n",
              "      <td>1.0</td>\n",
              "    </tr>\n",
              "    <tr>\n",
              "      <th>2</th>\n",
              "      <td>6.0</td>\n",
              "      <td>8.0</td>\n",
              "      <td>0.0</td>\n",
              "    </tr>\n",
              "    <tr>\n",
              "      <th>3</th>\n",
              "      <td>9.0</td>\n",
              "      <td>8.0</td>\n",
              "      <td>1.0</td>\n",
              "    </tr>\n",
              "    <tr>\n",
              "      <th>4</th>\n",
              "      <td>8.0</td>\n",
              "      <td>7.0</td>\n",
              "      <td>0.0</td>\n",
              "    </tr>\n",
              "    <tr>\n",
              "      <th>...</th>\n",
              "      <td>...</td>\n",
              "      <td>...</td>\n",
              "      <td>...</td>\n",
              "    </tr>\n",
              "    <tr>\n",
              "      <th>9995</th>\n",
              "      <td>7.0</td>\n",
              "      <td>0.0</td>\n",
              "      <td>0.0</td>\n",
              "    </tr>\n",
              "    <tr>\n",
              "      <th>9996</th>\n",
              "      <td>2.0</td>\n",
              "      <td>2.0</td>\n",
              "      <td>1.0</td>\n",
              "    </tr>\n",
              "    <tr>\n",
              "      <th>9997</th>\n",
              "      <td>8.0</td>\n",
              "      <td>0.0</td>\n",
              "      <td>0.0</td>\n",
              "    </tr>\n",
              "    <tr>\n",
              "      <th>9998</th>\n",
              "      <td>7.0</td>\n",
              "      <td>8.0</td>\n",
              "      <td>0.0</td>\n",
              "    </tr>\n",
              "    <tr>\n",
              "      <th>9999</th>\n",
              "      <td>2.0</td>\n",
              "      <td>0.0</td>\n",
              "      <td>0.0</td>\n",
              "    </tr>\n",
              "  </tbody>\n",
              "</table>\n",
              "<p>10000 rows × 3 columns</p>\n",
              "</div>"
            ],
            "text/plain": [
              "      Predictions  Expected Y  0 - Real, 1 - FGM, 2 - PGD\n",
              "0             8.0         6.0                         0.0\n",
              "1             2.0         7.0                         1.0\n",
              "2             6.0         8.0                         0.0\n",
              "3             9.0         8.0                         1.0\n",
              "4             8.0         7.0                         0.0\n",
              "...           ...         ...                         ...\n",
              "9995          7.0         0.0                         0.0\n",
              "9996          2.0         2.0                         1.0\n",
              "9997          8.0         0.0                         0.0\n",
              "9998          7.0         8.0                         0.0\n",
              "9999          2.0         0.0                         0.0\n",
              "\n",
              "[10000 rows x 3 columns]"
            ]
          },
          "execution_count": 29,
          "metadata": {},
          "output_type": "execute_result"
        }
      ],
      "source": [
        "results"
      ]
    },
    {
      "cell_type": "code",
      "execution_count": 30,
      "metadata": {},
      "outputs": [],
      "source": [
        "results['Comparisson'] = list(int(item) for item in (results['Predictions'] == results['Expected Y']))"
      ]
    },
    {
      "cell_type": "code",
      "execution_count": 31,
      "metadata": {},
      "outputs": [
        {
          "data": {
            "text/html": [
              "<div>\n",
              "<style scoped>\n",
              "    .dataframe tbody tr th:only-of-type {\n",
              "        vertical-align: middle;\n",
              "    }\n",
              "\n",
              "    .dataframe tbody tr th {\n",
              "        vertical-align: top;\n",
              "    }\n",
              "\n",
              "    .dataframe thead th {\n",
              "        text-align: right;\n",
              "    }\n",
              "</style>\n",
              "<table border=\"1\" class=\"dataframe\">\n",
              "  <thead>\n",
              "    <tr style=\"text-align: right;\">\n",
              "      <th></th>\n",
              "      <th>Predictions</th>\n",
              "      <th>Expected Y</th>\n",
              "      <th>0 - Real, 1 - FGM, 2 - PGD</th>\n",
              "      <th>Comparisson</th>\n",
              "    </tr>\n",
              "  </thead>\n",
              "  <tbody>\n",
              "    <tr>\n",
              "      <th>0</th>\n",
              "      <td>8.0</td>\n",
              "      <td>6.0</td>\n",
              "      <td>0.0</td>\n",
              "      <td>0</td>\n",
              "    </tr>\n",
              "    <tr>\n",
              "      <th>1</th>\n",
              "      <td>2.0</td>\n",
              "      <td>7.0</td>\n",
              "      <td>1.0</td>\n",
              "      <td>0</td>\n",
              "    </tr>\n",
              "    <tr>\n",
              "      <th>2</th>\n",
              "      <td>6.0</td>\n",
              "      <td>8.0</td>\n",
              "      <td>0.0</td>\n",
              "      <td>0</td>\n",
              "    </tr>\n",
              "    <tr>\n",
              "      <th>3</th>\n",
              "      <td>9.0</td>\n",
              "      <td>8.0</td>\n",
              "      <td>1.0</td>\n",
              "      <td>0</td>\n",
              "    </tr>\n",
              "    <tr>\n",
              "      <th>4</th>\n",
              "      <td>8.0</td>\n",
              "      <td>7.0</td>\n",
              "      <td>0.0</td>\n",
              "      <td>0</td>\n",
              "    </tr>\n",
              "    <tr>\n",
              "      <th>...</th>\n",
              "      <td>...</td>\n",
              "      <td>...</td>\n",
              "      <td>...</td>\n",
              "      <td>...</td>\n",
              "    </tr>\n",
              "    <tr>\n",
              "      <th>9995</th>\n",
              "      <td>7.0</td>\n",
              "      <td>0.0</td>\n",
              "      <td>0.0</td>\n",
              "      <td>0</td>\n",
              "    </tr>\n",
              "    <tr>\n",
              "      <th>9996</th>\n",
              "      <td>2.0</td>\n",
              "      <td>2.0</td>\n",
              "      <td>1.0</td>\n",
              "      <td>1</td>\n",
              "    </tr>\n",
              "    <tr>\n",
              "      <th>9997</th>\n",
              "      <td>8.0</td>\n",
              "      <td>0.0</td>\n",
              "      <td>0.0</td>\n",
              "      <td>0</td>\n",
              "    </tr>\n",
              "    <tr>\n",
              "      <th>9998</th>\n",
              "      <td>7.0</td>\n",
              "      <td>8.0</td>\n",
              "      <td>0.0</td>\n",
              "      <td>0</td>\n",
              "    </tr>\n",
              "    <tr>\n",
              "      <th>9999</th>\n",
              "      <td>2.0</td>\n",
              "      <td>0.0</td>\n",
              "      <td>0.0</td>\n",
              "      <td>0</td>\n",
              "    </tr>\n",
              "  </tbody>\n",
              "</table>\n",
              "<p>10000 rows × 4 columns</p>\n",
              "</div>"
            ],
            "text/plain": [
              "      Predictions  Expected Y  0 - Real, 1 - FGM, 2 - PGD  Comparisson\n",
              "0             8.0         6.0                         0.0            0\n",
              "1             2.0         7.0                         1.0            0\n",
              "2             6.0         8.0                         0.0            0\n",
              "3             9.0         8.0                         1.0            0\n",
              "4             8.0         7.0                         0.0            0\n",
              "...           ...         ...                         ...          ...\n",
              "9995          7.0         0.0                         0.0            0\n",
              "9996          2.0         2.0                         1.0            1\n",
              "9997          8.0         0.0                         0.0            0\n",
              "9998          7.0         8.0                         0.0            0\n",
              "9999          2.0         0.0                         0.0            0\n",
              "\n",
              "[10000 rows x 4 columns]"
            ]
          },
          "execution_count": 31,
          "metadata": {},
          "output_type": "execute_result"
        }
      ],
      "source": [
        "results"
      ]
    },
    {
      "cell_type": "code",
      "execution_count": 32,
      "metadata": {},
      "outputs": [
        {
          "data": {
            "text/html": [
              "<div>\n",
              "<style scoped>\n",
              "    .dataframe tbody tr th:only-of-type {\n",
              "        vertical-align: middle;\n",
              "    }\n",
              "\n",
              "    .dataframe tbody tr th {\n",
              "        vertical-align: top;\n",
              "    }\n",
              "\n",
              "    .dataframe thead th {\n",
              "        text-align: right;\n",
              "    }\n",
              "</style>\n",
              "<table border=\"1\" class=\"dataframe\">\n",
              "  <thead>\n",
              "    <tr style=\"text-align: right;\">\n",
              "      <th></th>\n",
              "      <th></th>\n",
              "      <th>Predictions</th>\n",
              "      <th>Expected Y</th>\n",
              "    </tr>\n",
              "    <tr>\n",
              "      <th>0 - Real, 1 - FGM, 2 - PGD</th>\n",
              "      <th>Comparisson</th>\n",
              "      <th></th>\n",
              "      <th></th>\n",
              "    </tr>\n",
              "  </thead>\n",
              "  <tbody>\n",
              "    <tr>\n",
              "      <th rowspan=\"2\" valign=\"top\">0.0</th>\n",
              "      <th>0</th>\n",
              "      <td>5408</td>\n",
              "      <td>5408</td>\n",
              "    </tr>\n",
              "    <tr>\n",
              "      <th>1</th>\n",
              "      <td>592</td>\n",
              "      <td>592</td>\n",
              "    </tr>\n",
              "    <tr>\n",
              "      <th rowspan=\"2\" valign=\"top\">1.0</th>\n",
              "      <th>0</th>\n",
              "      <td>3617</td>\n",
              "      <td>3617</td>\n",
              "    </tr>\n",
              "    <tr>\n",
              "      <th>1</th>\n",
              "      <td>383</td>\n",
              "      <td>383</td>\n",
              "    </tr>\n",
              "  </tbody>\n",
              "</table>\n",
              "</div>"
            ],
            "text/plain": [
              "                                        Predictions  Expected Y\n",
              "0 - Real, 1 - FGM, 2 - PGD Comparisson                         \n",
              "0.0                        0                   5408        5408\n",
              "                           1                    592         592\n",
              "1.0                        0                   3617        3617\n",
              "                           1                    383         383"
            ]
          },
          "execution_count": 32,
          "metadata": {},
          "output_type": "execute_result"
        }
      ],
      "source": [
        "results.groupby(['0 - Real, 1 - FGM, 2 - PGD', 'Comparisson']).count()"
      ]
    },
    {
      "cell_type": "markdown",
      "metadata": {},
      "source": [
        "# Creating Failure Times Array"
      ]
    },
    {
      "cell_type": "code",
      "execution_count": 34,
      "metadata": {},
      "outputs": [],
      "source": [
        "faults = np.array([])\n",
        "for row in range(len(results)):\n",
        "    if results['0 - Real, 1 - FGM, 2 - PGD'][row] == 0:\n",
        "        faults = np.append(faults, 0)\n",
        "    else:\n",
        "        if results['Comparisson'][row] == 1:\n",
        "            faults = np.append(faults, 1)\n",
        "        else:\n",
        "            faults = np.append(faults, 0)"
      ]
    },
    {
      "cell_type": "code",
      "execution_count": 35,
      "metadata": {},
      "outputs": [],
      "source": [
        "results['prediction_results'] = faults"
      ]
    },
    {
      "cell_type": "code",
      "execution_count": 36,
      "metadata": {},
      "outputs": [
        {
          "data": {
            "text/html": [
              "<div>\n",
              "<style scoped>\n",
              "    .dataframe tbody tr th:only-of-type {\n",
              "        vertical-align: middle;\n",
              "    }\n",
              "\n",
              "    .dataframe tbody tr th {\n",
              "        vertical-align: top;\n",
              "    }\n",
              "\n",
              "    .dataframe thead th {\n",
              "        text-align: right;\n",
              "    }\n",
              "</style>\n",
              "<table border=\"1\" class=\"dataframe\">\n",
              "  <thead>\n",
              "    <tr style=\"text-align: right;\">\n",
              "      <th></th>\n",
              "      <th>Predictions</th>\n",
              "      <th>Expected Y</th>\n",
              "      <th>0 - Real, 1 - FGM, 2 - PGD</th>\n",
              "      <th>Comparisson</th>\n",
              "      <th>prediction_results</th>\n",
              "    </tr>\n",
              "  </thead>\n",
              "  <tbody>\n",
              "    <tr>\n",
              "      <th>0</th>\n",
              "      <td>8.0</td>\n",
              "      <td>6.0</td>\n",
              "      <td>0.0</td>\n",
              "      <td>0</td>\n",
              "      <td>0.0</td>\n",
              "    </tr>\n",
              "    <tr>\n",
              "      <th>1</th>\n",
              "      <td>2.0</td>\n",
              "      <td>7.0</td>\n",
              "      <td>1.0</td>\n",
              "      <td>0</td>\n",
              "      <td>0.0</td>\n",
              "    </tr>\n",
              "    <tr>\n",
              "      <th>2</th>\n",
              "      <td>6.0</td>\n",
              "      <td>8.0</td>\n",
              "      <td>0.0</td>\n",
              "      <td>0</td>\n",
              "      <td>0.0</td>\n",
              "    </tr>\n",
              "    <tr>\n",
              "      <th>3</th>\n",
              "      <td>9.0</td>\n",
              "      <td>8.0</td>\n",
              "      <td>1.0</td>\n",
              "      <td>0</td>\n",
              "      <td>0.0</td>\n",
              "    </tr>\n",
              "    <tr>\n",
              "      <th>4</th>\n",
              "      <td>8.0</td>\n",
              "      <td>7.0</td>\n",
              "      <td>0.0</td>\n",
              "      <td>0</td>\n",
              "      <td>0.0</td>\n",
              "    </tr>\n",
              "    <tr>\n",
              "      <th>...</th>\n",
              "      <td>...</td>\n",
              "      <td>...</td>\n",
              "      <td>...</td>\n",
              "      <td>...</td>\n",
              "      <td>...</td>\n",
              "    </tr>\n",
              "    <tr>\n",
              "      <th>9995</th>\n",
              "      <td>7.0</td>\n",
              "      <td>0.0</td>\n",
              "      <td>0.0</td>\n",
              "      <td>0</td>\n",
              "      <td>0.0</td>\n",
              "    </tr>\n",
              "    <tr>\n",
              "      <th>9996</th>\n",
              "      <td>2.0</td>\n",
              "      <td>2.0</td>\n",
              "      <td>1.0</td>\n",
              "      <td>1</td>\n",
              "      <td>1.0</td>\n",
              "    </tr>\n",
              "    <tr>\n",
              "      <th>9997</th>\n",
              "      <td>8.0</td>\n",
              "      <td>0.0</td>\n",
              "      <td>0.0</td>\n",
              "      <td>0</td>\n",
              "      <td>0.0</td>\n",
              "    </tr>\n",
              "    <tr>\n",
              "      <th>9998</th>\n",
              "      <td>7.0</td>\n",
              "      <td>8.0</td>\n",
              "      <td>0.0</td>\n",
              "      <td>0</td>\n",
              "      <td>0.0</td>\n",
              "    </tr>\n",
              "    <tr>\n",
              "      <th>9999</th>\n",
              "      <td>2.0</td>\n",
              "      <td>0.0</td>\n",
              "      <td>0.0</td>\n",
              "      <td>0</td>\n",
              "      <td>0.0</td>\n",
              "    </tr>\n",
              "  </tbody>\n",
              "</table>\n",
              "<p>10000 rows × 5 columns</p>\n",
              "</div>"
            ],
            "text/plain": [
              "      Predictions  Expected Y  0 - Real, 1 - FGM, 2 - PGD  Comparisson  \\\n",
              "0             8.0         6.0                         0.0            0   \n",
              "1             2.0         7.0                         1.0            0   \n",
              "2             6.0         8.0                         0.0            0   \n",
              "3             9.0         8.0                         1.0            0   \n",
              "4             8.0         7.0                         0.0            0   \n",
              "...           ...         ...                         ...          ...   \n",
              "9995          7.0         0.0                         0.0            0   \n",
              "9996          2.0         2.0                         1.0            1   \n",
              "9997          8.0         0.0                         0.0            0   \n",
              "9998          7.0         8.0                         0.0            0   \n",
              "9999          2.0         0.0                         0.0            0   \n",
              "\n",
              "      prediction_results  \n",
              "0                    0.0  \n",
              "1                    0.0  \n",
              "2                    0.0  \n",
              "3                    0.0  \n",
              "4                    0.0  \n",
              "...                  ...  \n",
              "9995                 0.0  \n",
              "9996                 1.0  \n",
              "9997                 0.0  \n",
              "9998                 0.0  \n",
              "9999                 0.0  \n",
              "\n",
              "[10000 rows x 5 columns]"
            ]
          },
          "execution_count": 36,
          "metadata": {},
          "output_type": "execute_result"
        }
      ],
      "source": [
        "results"
      ]
    },
    {
      "cell_type": "code",
      "execution_count": 56,
      "metadata": {},
      "outputs": [],
      "source": [
        "n_failures = sum(results['prediction_results'])\n",
        "fn = np.linspace(1,n_failures, num=int(n_failures))\n",
        "ft = np.where(results['prediction_results']==1)\n"
      ]
    },
    {
      "cell_type": "code",
      "execution_count": 76,
      "metadata": {},
      "outputs": [
        {
          "data": {
            "text/html": [
              "<div>\n",
              "<style scoped>\n",
              "    .dataframe tbody tr th:only-of-type {\n",
              "        vertical-align: middle;\n",
              "    }\n",
              "\n",
              "    .dataframe tbody tr th {\n",
              "        vertical-align: top;\n",
              "    }\n",
              "\n",
              "    .dataframe thead th {\n",
              "        text-align: right;\n",
              "    }\n",
              "</style>\n",
              "<table border=\"1\" class=\"dataframe\">\n",
              "  <thead>\n",
              "    <tr style=\"text-align: right;\">\n",
              "      <th></th>\n",
              "      <th>Failure Time</th>\n",
              "    </tr>\n",
              "    <tr>\n",
              "      <th>Failure Number</th>\n",
              "      <th></th>\n",
              "    </tr>\n",
              "  </thead>\n",
              "  <tbody>\n",
              "    <tr>\n",
              "      <th>1.0</th>\n",
              "      <td>18</td>\n",
              "    </tr>\n",
              "    <tr>\n",
              "      <th>2.0</th>\n",
              "      <td>27</td>\n",
              "    </tr>\n",
              "    <tr>\n",
              "      <th>3.0</th>\n",
              "      <td>95</td>\n",
              "    </tr>\n",
              "    <tr>\n",
              "      <th>4.0</th>\n",
              "      <td>105</td>\n",
              "    </tr>\n",
              "    <tr>\n",
              "      <th>5.0</th>\n",
              "      <td>142</td>\n",
              "    </tr>\n",
              "    <tr>\n",
              "      <th>...</th>\n",
              "      <td>...</td>\n",
              "    </tr>\n",
              "    <tr>\n",
              "      <th>379.0</th>\n",
              "      <td>9919</td>\n",
              "    </tr>\n",
              "    <tr>\n",
              "      <th>380.0</th>\n",
              "      <td>9923</td>\n",
              "    </tr>\n",
              "    <tr>\n",
              "      <th>381.0</th>\n",
              "      <td>9942</td>\n",
              "    </tr>\n",
              "    <tr>\n",
              "      <th>382.0</th>\n",
              "      <td>9967</td>\n",
              "    </tr>\n",
              "    <tr>\n",
              "      <th>383.0</th>\n",
              "      <td>9996</td>\n",
              "    </tr>\n",
              "  </tbody>\n",
              "</table>\n",
              "<p>383 rows × 1 columns</p>\n",
              "</div>"
            ],
            "text/plain": [
              "                Failure Time\n",
              "Failure Number              \n",
              "1.0                       18\n",
              "2.0                       27\n",
              "3.0                       95\n",
              "4.0                      105\n",
              "5.0                      142\n",
              "...                      ...\n",
              "379.0                   9919\n",
              "380.0                   9923\n",
              "381.0                   9942\n",
              "382.0                   9967\n",
              "383.0                   9996\n",
              "\n",
              "[383 rows x 1 columns]"
            ]
          },
          "execution_count": 76,
          "metadata": {},
          "output_type": "execute_result"
        }
      ],
      "source": [
        "d = {\"Failure Number\" : fn , \"Failure Time\": ft[0]}\n",
        "ft_df = pd.DataFrame(data = d)\n",
        "ft_df.set_index('Failure Number')"
      ]
    },
    {
      "cell_type": "code",
      "execution_count": 94,
      "metadata": {},
      "outputs": [
        {
          "data": {
            "text/plain": [
              "array([  9,  68,  10,  37,   5,   4,   9,   4,  19,  15,  12,  33,  16,\n",
              "       135,  12,  75,  21,   4,  16,   4,  31,  56,   9,  19,  36,  21,\n",
              "        25,  38,   3,  56,  32, 115,   5,   4,  18,   3,   8,   1,   6,\n",
              "        10,   2,  30,   4,   5,  20,  19,  68,  43,  21,   5,   8,  16,\n",
              "        58,  14,  10,  17,   4,  41,   3,   4,   7,  45,   8,  47,  12,\n",
              "         4,  10,  59,  18,  48,  50,   6,  26,  11,  45,   1,   4,  12,\n",
              "        17,   1,   2,  71,   3,  87,   1, 120,  19,   1,   1,  36,  40,\n",
              "         7,  19,   1,  38,  27,  30,  15,   1,  42,  35,  26,   6,  19,\n",
              "        33,  24,  23,  24,  37,  13,  48,  70,  20,  44,  94,  82,  34,\n",
              "         1,  19,  18,  12,  39,   6,   1,  27,  40,  16,  26,  37,  16,\n",
              "        58,  39,  24,  30,   2,  15,  16,  13,   9,  10,  53,  11,  20,\n",
              "         2,   6,  19,  16,  14,  54,  47,  47,  10,   4,   9,  11,  25,\n",
              "        10,  57,  53,   6,  41,   2,   4,   7,  56,   3,  13,  25,   3,\n",
              "        24,  58,  28,  55,  30,  93,  23,  21,   4,  62,   2,   7,  13,\n",
              "        70,  16,  44,  73,  17,  45,  20,  11,  32,  20,  37,  45,  38,\n",
              "        68,  37,  34,  16,   9,  82,  49,   2,  28,  24,  12,  15,   1,\n",
              "        26,  36,  95,   2,  34,  51,  50,  51, 138,  42,   2,   8,  12,\n",
              "        46,  62,   4,  57,  10,  12,  10,   9,  13,  15,  42,  12,  80,\n",
              "        16, 103,  19,  25,   4,   9,  12,  57, 111,  79,   7,  10,   5,\n",
              "         3,   3,  13,  17,   9,  42,   9,  23,  16,   2,  53,  15,  30,\n",
              "        17,  34,   8,  16,  14,  39,  12,  22,  21,  28,  14,  20,  15,\n",
              "        39,  70,  80,  39,  27,  29,  10,   7,   7,  53,  24,  16,  17,\n",
              "        12,  28,  14,  43,  36,  38,  31,   3,  37,   2,   9,   3,  65,\n",
              "        11,  22,   9,  17,  39,   2,   5,  12,   1,  11,  10,   2,  83,\n",
              "        29,  11,   1,   7,  13,   2,  33, 101,   6,  13,  14,   9,  14,\n",
              "        11,   3,  66,  30,   2,  12,  28,  64,  48,  12, 107,  34,   6,\n",
              "        33,  11,  23,   4,   5,  21,  17,  38,  24,   1,   2,  48,  62,\n",
              "        80,  21,  10,  37,  56,  16,   3,  26,   3,  16,  24,  24,   3,\n",
              "         1,  12,  51,  10,   3,  10,  11,  20,  64,  41, 115,  19,  35,\n",
              "         4,   4,  19,  25])"
            ]
          },
          "execution_count": 94,
          "metadata": {},
          "output_type": "execute_result"
        }
      ],
      "source": [
        "tbf = [ft[0][index]-ft[0][index-1] for index in range(1, len(ft[0])-1)]\n",
        "np.array(tbf)"
      ]
    },
    {
      "cell_type": "code",
      "execution_count": 81,
      "metadata": {},
      "outputs": [],
      "source": [
        "ft_df.to_csv('ft_df.csv')"
      ]
    },
    {
      "cell_type": "code",
      "execution_count": 82,
      "metadata": {},
      "outputs": [],
      "source": [
        "fc_df.to_csv('fc_df.csv')"
      ]
    },
    {
      "cell_type": "code",
      "execution_count": 77,
      "metadata": {},
      "outputs": [
        {
          "data": {
            "image/png": "[encoded data removed]",
            "text/plain": [
              "<Figure size 640x480 with 1 Axes>"
            ]
          },
          "metadata": {},
          "output_type": "display_data"
        }
      ],
      "source": [
        "plt.plot(ft_df['Failure Time']);"
      ]
    },
    {
      "cell_type": "markdown",
      "metadata": {},
      "source": [
        "# Creating Failure Count Array\n",
        "Considering 50 images as time step"
      ]
    },
    {
      "cell_type": "code",
      "execution_count": 73,
      "metadata": {},
      "outputs": [
        {
          "data": {
            "text/plain": [
              "array([2., 1., 3., 5., 2., 1., 0., 1., 1., 1., 4., 1., 3., 2., 1., 2., 1.,\n",
              "       1., 0., 5., 5., 4., 1., 1., 4., 1., 3., 2., 4., 2., 4., 0., 2., 1.,\n",
              "       2., 2., 7., 0., 2., 0., 2., 0., 3., 2., 2., 3., 2., 2., 2., 3., 2.,\n",
              "       2., 2., 1., 0., 2., 1., 0., 1., 0., 3., 3., 3., 1., 3., 2., 0., 2.,\n",
              "       3., 3., 2., 4., 3., 1., 1., 1., 5., 2., 1., 2., 4., 2., 3., 1., 1.,\n",
              "       1., 2., 0., 1., 3., 3., 1., 2., 1., 0., 2., 2., 2., 2., 1., 1., 1.,\n",
              "       1., 3., 0., 1., 2., 3., 3., 1., 0., 3., 1., 1., 0., 1., 0., 1., 3.,\n",
              "       2., 0., 2., 3., 4., 2., 0., 2., 0., 1., 3., 2., 1., 0., 1., 0., 6.,\n",
              "       3., 2., 3., 2., 2., 3., 2., 3., 2., 2., 1., 1., 0., 1., 2., 4., 1.,\n",
              "       3., 3., 1., 1., 3., 3., 1., 3., 2., 6., 2., 1., 4., 3., 0., 2., 4.,\n",
              "       2., 1., 4., 0., 1., 2., 0., 1., 3., 4., 2., 4., 1., 0., 1., 1., 2.,\n",
              "       1., 3., 4., 4., 2., 4., 0., 2., 0., 0., 2., 4., 2.])"
            ]
          },
          "execution_count": 73,
          "metadata": {},
          "output_type": "execute_result"
        }
      ],
      "source": [
        "failure_counts = np.array([])\n",
        "failure_splits = np.split(faults, (len(faults)/50))\n",
        "for i in range(len(failure_splits)):\n",
        "    failure_counts = np.append(failure_counts, sum(failure_splits[i]))\n",
        "failure_counts"
      ]
    },
    {
      "cell_type": "code",
      "execution_count": 78,
      "metadata": {},
      "outputs": [
        {
          "data": {
            "text/plain": [
              "<AxesSubplot:ylabel='Density'>"
            ]
          },
          "execution_count": 78,
          "metadata": {},
          "output_type": "execute_result"
        },
        {
          "data": {
            "image/png": "[encoded data removed]",
            "text/plain": [
              "<Figure size 640x480 with 1 Axes>"
            ]
          },
          "metadata": {},
          "output_type": "display_data"
        }
      ],
      "source": [
        "fc_df = pd.DataFrame(failure_counts)\n",
        "fc_df.plot(kind='density')"
      ]
    },
    {
      "cell_type": "code",
      "execution_count": 79,
      "metadata": {},
      "outputs": [
        {
          "data": {
            "image/png": "[encoded data removed]",
            "text/plain": [
              "<Figure size 640x480 with 1 Axes>"
            ]
          },
          "metadata": {},
          "output_type": "display_data"
        }
      ],
      "source": [
        "plt.hist(failure_counts, bins = 7);"
      ]
    },
    {
      "cell_type": "code",
      "execution_count": null,
      "metadata": {},
      "outputs": [],
      "source": []
    }
  ],
  "metadata": {
    "colab": {
      "provenance": []
    },
    "kernelspec": {
      "display_name": "Python 3.9.2 64-bit",
      "language": "python",
      "name": "python3"
    },
    "language_info": {
      "codemirror_mode": {
        "name": "ipython",
        "version": 3
      },
      "file_extension": ".py",
      "mimetype": "text/x-python",
      "name": "python",
      "nbconvert_exporter": "python",
      "pygments_lexer": "ipython3",
      "version": "3.9.2"
    },
    "vscode": {
      "interpreter": {
        "hash": "aee8b7b246df8f9039afb4144a1f6fd8d2ca17a180786b69acc140d282b71a49"
      }
    }
  },
  "nbformat": 4,
  "nbformat_minor": 0
}
